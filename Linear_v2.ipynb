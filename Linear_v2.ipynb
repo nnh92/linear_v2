{
  "nbformat": 4,
  "nbformat_minor": 0,
  "metadata": {
    "colab": {
      "name": "Linear regress.ipynb",
      "provenance": [],
      "collapsed_sections": [],
      "authorship_tag": "ABX9TyP1+XoKCYUKVUtrD0s9kP3e",
      "include_colab_link": true
    },
    "kernelspec": {
      "name": "python3",
      "display_name": "Python 3"
    },
    "accelerator": "GPU"
  },
  "cells": [
    {
      "cell_type": "markdown",
      "metadata": {
        "id": "view-in-github",
        "colab_type": "text"
      },
      "source": [
        "<a href=\"https://colab.research.google.com/github/nnh92/linear_v2/blob/main/Linear_v2.ipynb\" target=\"_parent\"><img src=\"https://colab.research.google.com/assets/colab-badge.svg\" alt=\"Open In Colab\"/></a>"
      ]
    },
    {
      "cell_type": "code",
      "metadata": {
        "id": "eWZ2AfqvFYHV",
        "colab": {
          "base_uri": "https://localhost:8080/",
          "height": 371
        },
        "outputId": "92cdcf10-0681-40f1-fa93-460d6e958600"
      },
      "source": [
        "import numpy as np\n",
        "import pandas as pd\n",
        "import matplotlib.pyplot as plt\n",
        "\n",
        "data = pd.read_csv('https://raw.githubusercontent.com/nnh92/linear_v2/main/Data.csv').values\n",
        "\n",
        "N = data.shape[0]\n",
        "x1 = data[:,0].reshape(-1,1)\n",
        "x2 = data[:,2].reshape(-1,1)\n",
        "x = np.hstack((x1,x2))\n",
        "y = data[:,1].reshape(-1,1)\n",
        "plt.scatter(x1,y)\n",
        "plt.xlabel('met vuong')\n",
        "plt.ylabel('gia')\n",
        "\n",
        "#print(x[0:,:])\n",
        "\n",
        "x = np.hstack((np.ones((N,1)),x))\n",
        "\n",
        "#print(x)\n",
        "\n",
        "w = np.array([0.,1.,2.]).reshape(-1,1)\n",
        "numOfIteration = 1000\n",
        "cost = np.zeros((numOfIteration,1))\n",
        "learning_rate = 0.00001\n",
        "for i in range(1,numOfIteration):\n",
        "  r = np.dot(x,w) - y\n",
        "  cost[i] = 0.5*np.sum(r*r)\n",
        "  w[0] -= learning_rate*np.sum(r)\n",
        "  w[1] -= learning_rate*np.sum(np.multiply(r,x[:,1].reshape(-1,1)))\n",
        "  w[2] -= learning_rate*np.sum(np.multiply(r,x[:,2].reshape(-1,1)))\n",
        "  #print(cost[i])\n",
        "predict = np.dot(x,w)\n",
        "plt.plot((x[0][1],x[N-1][1]),(predict[0],predict[N-1]),'r')\n",
        "\n",
        "#print(x[:,2])\n",
        "\n",
        "x01 = 90\n",
        "x02 = 6\n",
        "y1 = w[0] + w[1]*x01 + w[2]*x02\n",
        "print('Gia nha cho ',x01,'m voi so phong ',x02,' la: ',y1)\n",
        "print(w)\n",
        "\n",
        "plt.plot(x01,y1,'b^',markersize=10,alpha=.8)\n",
        "plt.show()"
      ],
      "execution_count": 35,
      "outputs": [
        {
          "output_type": "stream",
          "text": [
            "Gia nha cho  90 m voi so phong  6  la:  [1361.14672578]\n",
            "[[-5.43752055e-03]\n",
            " [ 1.49605792e+01]\n",
            " [ 2.45000571e+00]]\n"
          ],
          "name": "stdout"
        },
        {
          "output_type": "display_data",
          "data": {
            "image/png": "[encoded data removed]",
            "text/plain": [
              "<Figure size 432x288 with 1 Axes>"
            ]
          },
          "metadata": {
            "tags": [],
            "needs_background": "light"
          }
        }
      ]
    }
  ]
}